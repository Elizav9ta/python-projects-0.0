{
 "cells": [
  {
   "cell_type": "code",
   "execution_count": 8,
   "id": "f1cce916-58d4-4332-abf6-06628717532d",
   "metadata": {},
   "outputs": [
    {
     "name": "stdout",
     "output_type": "stream",
     "text": [
      "Date 5 days ago: 2024-10-01\n"
     ]
    }
   ],
   "source": [
    "from datetime import datetime, timedelta\n",
    "\n",
    "current_date = datetime.now()\n",
    "\n",
    "new_date = current_date - timedelta(days=5)\n",
    "\n",
    "print(\"Date 5 days ago:\", new_date.strftime('%Y-%m-%d'))\n"
   ]
  },
  {
   "cell_type": "code",
   "execution_count": 15,
   "id": "e3a4d50a-4b29-45a7-8c40-6d94775a5d18",
   "metadata": {},
   "outputs": [
    {
     "name": "stdout",
     "output_type": "stream",
     "text": [
      "Yesterday: 2024-10-02\n",
      "Today: 2024-10-03\n",
      "Tomorrow: 2024-10-04\n"
     ]
    }
   ],
   "source": [
    "from datetime import datetime, timedelta\n",
    "\n",
    "today = datetime.now()\n",
    "\n",
    "yesterday = today - timedelta(days=1)\n",
    "tomorrow = today + timedelta(days=1)\n",
    "\n",
    "\n",
    "print(\"Yesterday:\", yesterday.strftime('%Y-%m-%d'))\n",
    "print(\"Today:\", today.strftime('%Y-%m-%d'))\n",
    "print(\"Tomorrow:\", tomorrow.strftime('%Y-%m-%d'))\n"
   ]
  },
  {
   "cell_type": "code",
   "execution_count": 5,
   "id": "1df451f0-6639-4c58-83de-e3c813116d2c",
   "metadata": {
    "scrolled": true
   },
   "outputs": [
    {
     "name": "stdout",
     "output_type": "stream",
     "text": [
      "Difference in seconds: 181800.0\n"
     ]
    }
   ],
   "source": [
    "from datetime import datetime\n",
    "\n",
    "\n",
    "date1 = datetime(2024, 10, 1, 12, 0, 0)  # YYYY, MM, DD, HH, MM, SS\n",
    "date2 = datetime(2024, 10, 3, 14, 30, 0)\n",
    "# Calculate the difference in seconds\n",
    "difference_in_seconds = (date2 - date1).total_seconds()\n",
    "\n",
    "print(\"Difference in seconds:\", difference_in_seconds)\n"
   ]
  },
  {
   "cell_type": "code",
   "execution_count": 11,
   "id": "23db6694-ad32-4837-ac35-fadab3f53ff8",
   "metadata": {},
   "outputs": [
    {
     "name": "stdout",
     "output_type": "stream",
     "text": [
      "Difference in seconds: 181800.0\n"
     ]
    }
   ],
   "source": [
    "from datetime import datetime\n",
    "\n",
    "date1 = datetime(2024, 10, 1, 12, 0, 0)  # YYYY, MM, DD, HH, MM, SS\n",
    "date2 = datetime(2024, 10, 3, 14, 30, 0)\n",
    "\n",
    "difference_in_seconds = (date2 - date1).total_seconds()\n",
    "\n",
    "print(\"Difference in seconds:\", difference_in_seconds)\n"
   ]
  }
 ],
 "metadata": {
  "kernelspec": {
   "display_name": "Python 3 (ipykernel)",
   "language": "python",
   "name": "python3"
  },
  "language_info": {
   "codemirror_mode": {
    "name": "ipython",
    "version": 3
   },
   "file_extension": ".py",
   "mimetype": "text/x-python",
   "name": "python",
   "nbconvert_exporter": "python",
   "pygments_lexer": "ipython3",
   "version": "3.12.4"
  }
 },
 "nbformat": 4,
 "nbformat_minor": 5
}
