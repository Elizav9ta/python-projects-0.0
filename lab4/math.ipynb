{
 "cells": [
  {
   "cell_type": "code",
   "execution_count": 3,
   "id": "28fea850-0c4a-42bc-ac3e-363c4f20e6a4",
   "metadata": {},
   "outputs": [
    {
     "name": "stdout",
     "output_type": "stream",
     "text": [
      "Input degree: 15\n",
      "Output radian: 0.261799\n"
     ]
    }
   ],
   "source": [
    "import math\n",
    "\n",
    "def degree_to_radian(degree):\n",
    "    return degree * (math.pi / 180)\n",
    "\n",
    "# Input degree\n",
    "degree = 15\n",
    "radian = degree_to_radian(degree)\n",
    "print(f\"Input degree: {degree}\")\n",
    "print(f\"Output radian: {radian:.6f}\")\n"
   ]
  },
  {
   "cell_type": "code",
   "execution_count": 5,
   "id": "041cb5d0-262b-492e-a521-0fd1de763e23",
   "metadata": {},
   "outputs": [
    {
     "name": "stdout",
     "output_type": "stream",
     "text": [
      "Height: 5\n",
      "Base, first value: 5\n",
      "Base, second value: 6\n",
      "Expected Output: 27.5\n"
     ]
    }
   ],
   "source": [
    "def trapezoid_area(height, base1, base2):\n",
    "    return 0.5 * (base1 + base2) * height\n",
    "\n",
    "# Input values\n",
    "height = 5\n",
    "base1 = 5\n",
    "base2 = 6\n",
    "\n",
    "area = trapezoid_area(height, base1, base2)\n",
    "print(f\"Height: {height}\")\n",
    "print(f\"Base, first value: {base1}\")\n",
    "print(f\"Base, second value: {base2}\")\n",
    "print(f\"Expected Output: {area}\")\n"
   ]
  },
  {
   "cell_type": "code",
   "execution_count": 7,
   "id": "e57e3cc7-fd2e-4256-b982-e333a5cddde4",
   "metadata": {},
   "outputs": [
    {
     "name": "stdout",
     "output_type": "stream",
     "text": [
      "Input number of sides: 4\n",
      "Input the length of a side: 25\n",
      "The area of the polygon is: 625.0\n"
     ]
    }
   ],
   "source": [
    "def regular_polygon_area(num_sides, side_length):\n",
    "    return (num_sides * side_length ** 2) / (4 * math.tan(math.pi / num_sides))\n",
    "\n",
    "# Input values\n",
    "num_sides = 4\n",
    "side_length = 25\n",
    "\n",
    "area = regular_polygon_area(num_sides, side_length)\n",
    "print(f\"Input number of sides: {num_sides}\")\n",
    "print(f\"Input the length of a side: {side_length}\")\n",
    "print(f\"The area of the polygon is: {area:.1f}\")\n"
   ]
  },
  {
   "cell_type": "code",
   "execution_count": 9,
   "id": "f291e5ce-6e2d-4566-81b1-b820a804eee4",
   "metadata": {},
   "outputs": [
    {
     "name": "stdout",
     "output_type": "stream",
     "text": [
      "Length of base: 5\n",
      "Height of parallelogram: 6\n",
      "Expected Output: 30\n"
     ]
    }
   ],
   "source": [
    "def parallelogram_area(base, height):\n",
    "    return base * height\n",
    "\n",
    "# Input values\n",
    "base = 5\n",
    "height = 6\n",
    "\n",
    "area = parallelogram_area(base, height)\n",
    "print(f\"Length of base: {base}\")\n",
    "print(f\"Height of parallelogram: {height}\")\n",
    "print(f\"Expected Output: {area}\")\n"
   ]
  },
  {
   "cell_type": "code",
   "execution_count": null,
   "id": "0a59ae51-26d0-4b34-9020-285aed71fd5d",
   "metadata": {},
   "outputs": [],
   "source": []
  }
 ],
 "metadata": {
  "kernelspec": {
   "display_name": "Python 3 (ipykernel)",
   "language": "python",
   "name": "python3"
  },
  "language_info": {
   "codemirror_mode": {
    "name": "ipython",
    "version": 3
   },
   "file_extension": ".py",
   "mimetype": "text/x-python",
   "name": "python",
   "nbconvert_exporter": "python",
   "pygments_lexer": "ipython3",
   "version": "3.12.4"
  }
 },
 "nbformat": 4,
 "nbformat_minor": 5
}
