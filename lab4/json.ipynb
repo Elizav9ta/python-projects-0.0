{
 "cells": [
  {
   "cell_type": "code",
   "execution_count": 13,
   "id": "bd474fd5-64b7-499f-9cfb-f9a88c467ddc",
   "metadata": {},
   "outputs": [
    {
     "name": "stdout",
     "output_type": "stream",
     "text": [
      "Top-level keys in the JSON: dict_keys(['cells', 'metadata', 'nbformat', 'nbformat_minor'])\n",
      "The key 'imdata' is not found in the JSON file.\n"
     ]
    }
   ],
   "source": [
    "import json\n",
    "\n",
    "# Load the JSON file\n",
    "with open('sample-data.json') as file:\n",
    "    data = json.load(file)\n",
    "\n",
    "# Check the top-level structure of the JSON file\n",
    "print(\"Top-level keys in the JSON:\", data.keys())\n",
    "\n",
    "# If 'imdata' is not present, we can gracefully handle it:\n",
    "if 'imdata' in data:\n",
    "    print(\"Interface Status\")\n",
    "    print(\"=\" * 80)\n",
    "    print(\"{:<50} {:<20} {:<8} {:<6}\".format(\"DN\", \"Description\", \"Speed\", \"MTU\"))\n",
    "    print(\"-\" * 80)\n",
    "\n",
    "    # Iterate through the data to print the interface information\n",
    "    for item in data[\"imdata\"]:\n",
    "        try:\n",
    "            dn = item[\"l1PhysIf\"][\"attributes\"][\"dn\"]\n",
    "            description = item[\"l1PhysIf\"][\"attributes\"].get(\"description\", \"\")\n",
    "            speed = item[\"l1PhysIf\"][\"attributes\"].get(\"speed\", \"inherit\")\n",
    "            mtu = item[\"l1PhysIf\"][\"attributes\"].get(\"mtu\", \"\")\n",
    "            \n",
    "            print(\"{:<50} {:<20} {:<8} {:<6}\".format(dn, description, speed, mtu))\n",
    "        except KeyError as e:\n",
    "            print(f\"Missing key: {e}\")\n",
    "else:\n",
    "    print(\"The key 'imdata' is not found in the JSON file.\")\n",
    "\n"
   ]
  },
  {
   "cell_type": "code",
   "execution_count": null,
   "id": "ae2be6ef-07ef-4e6b-aaa3-2ff60dc9d2eb",
   "metadata": {},
   "outputs": [],
   "source": []
  }
 ],
 "metadata": {
  "kernelspec": {
   "display_name": "Python 3 (ipykernel)",
   "language": "python",
   "name": "python3"
  },
  "language_info": {
   "codemirror_mode": {
    "name": "ipython",
    "version": 3
   },
   "file_extension": ".py",
   "mimetype": "text/x-python",
   "name": "python",
   "nbconvert_exporter": "python",
   "pygments_lexer": "ipython3",
   "version": "3.12.4"
  }
 },
 "nbformat": 4,
 "nbformat_minor": 5
}
