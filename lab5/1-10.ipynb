{
 "cells": [
  {
   "cell_type": "code",
   "execution_count": 55,
   "id": "4e2d28c7-363f-482c-8613-f8a3dfc07529",
   "metadata": {},
   "outputs": [
    {
     "name": "stdout",
     "output_type": "stream",
     "text": [
      "True\n",
      "True\n",
      "True\n",
      "False\n"
     ]
    }
   ],
   "source": [
    "#1\n",
    "import re\n",
    "\n",
    "def match_a_b(str):\n",
    "    x = r'a*b*'\n",
    "    return bool(re.fullmatch(x, str))\n",
    "\n",
    "print(match_a_b(\"abbb\"))  \n",
    "print(match_a_b(\"a\"))    \n",
    "print(match_a_b(\"b\"))  \n",
    "print(match_a_b(\" \")) \n"
   ]
  },
  {
   "cell_type": "code",
   "execution_count": 35,
   "id": "b4513baf-b0ee-41e3-a220-6b32028f5ae0",
   "metadata": {},
   "outputs": [
    {
     "name": "stdout",
     "output_type": "stream",
     "text": [
      "False\n",
      "True\n"
     ]
    }
   ],
   "source": [
    "#2\n",
    "import re\n",
    "\n",
    "def match_a_bb(s):\n",
    "\n",
    "    x = r'a(b*)'\n",
    "    \n",
    "    match = re.search(x, s)\n",
    "    \n",
    "    return bool(match)\n",
    "print(match_a_bb(\"c\"))  \n",
    "print(match_a_bb(\"abbbb\")) \n"
   ]
  },
  {
   "cell_type": "code",
   "execution_count": 45,
   "id": "8eb0eba0-c48c-4462-bc08-ef28b28be2de",
   "metadata": {},
   "outputs": [
    {
     "name": "stdout",
     "output_type": "stream",
     "text": [
      "['abc_def', 'ghi_jkl']\n"
     ]
    }
   ],
   "source": [
    "#3\n",
    "import re\n",
    "\n",
    "def find_low_under(str):\n",
    "    x = r'[a-z]+_[a-z]+'\n",
    "    return re.findall(x, str)#This will return all matches found in the input string\n",
    "\n",
    "print(find_low_under(\"abc_def ghi_jkl\")) \n"
   ]
  },
  {
   "cell_type": "code",
   "execution_count": 51,
   "id": "2927e6d3-972a-46b1-922f-fc8556895689",
   "metadata": {},
   "outputs": [
    {
     "name": "stdout",
     "output_type": "stream",
     "text": [
      "['Hello', 'World', 'This', 'Is', 'Test']\n"
     ]
    }
   ],
   "source": [
    "#4\n",
    "import re\n",
    "\n",
    "def find_upper_lower(s):\n",
    "    x = r'[A-Z][a-z]+'\n",
    "    \n",
    "    return re.findall(x, s)\n",
    "print(find_upper_lower(\"Hello World! This Is a Test.\")) \n"
   ]
  },
  {
   "cell_type": "code",
   "execution_count": 53,
   "id": "6240b68d-4def-42a6-89ec-eac9fd3341c9",
   "metadata": {},
   "outputs": [
    {
     "name": "stdout",
     "output_type": "stream",
     "text": [
      "True\n",
      "False\n"
     ]
    }
   ],
   "source": [
    "#5\n",
    "import re\n",
    "\n",
    "def match_a_to_b(s):\n",
    "    x = r'a.*b'\n",
    "    return re.search(x, s) is not None\n",
    "\n",
    "print(match_a_to_b(\"This's example ab\")) \n",
    "print(match_a_to_b(\"This's example a\")) \n"
   ]
  },
  {
   "cell_type": "code",
   "execution_count": 69,
   "id": "168fb24a-565d-41f0-b616-67beffd30bd7",
   "metadata": {},
   "outputs": [
    {
     "name": "stdout",
     "output_type": "stream",
     "text": [
      "This:example::with:spaces:\n"
     ]
    }
   ],
   "source": [
    "#6\n",
    "import re\n",
    "\n",
    "def replace_with_colon(s):\n",
    "    pattern = r'[ ,.]'\n",
    "    return re.sub(pattern, ':', s)#replaces the matches with the text of your choice:\n",
    "\n",
    "print(replace_with_colon(\"This example, with spaces.\"))\n"
   ]
  },
  {
   "cell_type": "code",
   "execution_count": 79,
   "id": "c16672f8-9a9a-4dd6-a43f-257ef7520e5f",
   "metadata": {},
   "outputs": [
    {
     "name": "stdout",
     "output_type": "stream",
     "text": [
      "thisIsASnakeCaseString\n"
     ]
    }
   ],
   "source": [
    "#7\n",
    "def snake_to_camel(snake_str):\n",
    "    c = snake_str.split('_')\n",
    "    return c[0] + ''.join(x.title() for x in c[1:])\n",
    "\n",
    "print(snake_to_camel(\"this_is_a_snake_case_string\"))\n",
    "\n"
   ]
  },
  {
   "cell_type": "code",
   "execution_count": 73,
   "id": "0f6527cf-0af2-48d5-8d1a-ccf0bdc2ba9c",
   "metadata": {},
   "outputs": [
    {
     "name": "stdout",
     "output_type": "stream",
     "text": [
      "['', 'This', 'Is', 'An', 'Example']\n"
     ]
    }
   ],
   "source": [
    "#8\n",
    "import re\n",
    "\n",
    "def split_at_uppercase(s):\n",
    "    x = r'(?=[A-Z])'  \n",
    "    return re.split(x, s)\n",
    "\n",
    "print(split_at_uppercase(\"ThisIsAnExample\"))\n"
   ]
  },
  {
   "cell_type": "code",
   "execution_count": 75,
   "id": "c99d4c67-e6af-4a31-a1e4-5112bdad525b",
   "metadata": {},
   "outputs": [
    {
     "name": "stdout",
     "output_type": "stream",
     "text": [
      "This Is An Example\n"
     ]
    }
   ],
   "source": [
    "#9\n",
    "import re\n",
    "\n",
    "def insert_spaces(s):\n",
    "    x = r'(?<!^)(?=[A-Z])'  \n",
    "    return re.sub(x, ' ', s)\n",
    "\n",
    "print(insert_spaces(\"ThisIsAnExample\"))\n"
   ]
  },
  {
   "cell_type": "code",
   "execution_count": 77,
   "id": "34f92247-a654-4ab2-8a57-de0b6dd4088f",
   "metadata": {},
   "outputs": [
    {
     "name": "stdout",
     "output_type": "stream",
     "text": [
      "this_is_camel_case\n"
     ]
    }
   ],
   "source": [
    "#10\n",
    "import re\n",
    "\n",
    "def camel_to_snake(camel_str):\n",
    "    x = r'(?<!^)(?=[A-Z])' \n",
    "    snake_str = re.sub(x, '_', camel_str).lower()\n",
    "    return snake_str\n",
    "\n",
    "print(camel_to_snake(\"thisIsCamelCase\"))\n",
    "\n"
   ]
  },
  {
   "cell_type": "code",
   "execution_count": null,
   "id": "cd1e4338-1c0f-4d39-9c0b-691dd9131e76",
   "metadata": {},
   "outputs": [],
   "source": []
  }
 ],
 "metadata": {
  "kernelspec": {
   "display_name": "Python 3 (ipykernel)",
   "language": "python",
   "name": "python3"
  },
  "language_info": {
   "codemirror_mode": {
    "name": "ipython",
    "version": 3
   },
   "file_extension": ".py",
   "mimetype": "text/x-python",
   "name": "python",
   "nbconvert_exporter": "python",
   "pygments_lexer": "ipython3",
   "version": "3.12.4"
  }
 },
 "nbformat": 4,
 "nbformat_minor": 5
}
