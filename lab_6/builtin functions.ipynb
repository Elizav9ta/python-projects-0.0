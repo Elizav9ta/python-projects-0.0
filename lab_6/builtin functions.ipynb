{
 "cells": [
  {
   "cell_type": "code",
   "execution_count": null,
   "id": "42655a43-8223-4d85-b084-45956dc4a329",
   "metadata": {},
   "outputs": [],
   "source": [
    "#1\n",
    "import math\n",
    "\n",
    "def multiply_list(numbers):\n",
    "    return math.prod(numbers)\n",
    "\n",
    "# Example usage\n",
    "numbers = [2, 3, 4, 5]\n",
    "result = multiply_list(numbers)\n",
    "print(f\"The product of the list is: {result}\")\n"
   ]
  },
  {
   "cell_type": "code",
   "execution_count": null,
   "id": "47627a69-00db-49b2-bf92-9d19bfe167bf",
   "metadata": {},
   "outputs": [],
   "source": [
    "#2\n",
    "def count_case(s):\n",
    "    upper_case = sum(1 for c in s if c.isupper())\n",
    "    lower_case = sum(1 for c in s if c.islower())\n",
    "    return upper_case, lower_case\n",
    "\n",
    "s = \"Hello World!\"\n",
    "upper, lower = count_case(s)\n",
    "print(f\"Upper case letters: {upper}, Lower case letters: {lower}\")\n"
   ]
  },
  {
   "cell_type": "code",
   "execution_count": null,
   "id": "4a6de7f3-1a0e-4078-897f-f22e6aa9f36a",
   "metadata": {},
   "outputs": [],
   "source": [
    "#3\n",
    "def is_palindrome(s):\n",
    "    return s == s[::-1]\n",
    "\n",
    "s = \"radar\"\n",
    "result = is_palindrome(s)\n",
    "print(f\"Is the string a palindrome? {result}\")\n"
   ]
  },
  {
   "cell_type": "code",
   "execution_count": null,
   "id": "278d8381-6bd2-463d-b856-38e053de260a",
   "metadata": {},
   "outputs": [],
   "source": [
    "#4\n",
    "import time\n",
    "import math\n",
    "\n",
    "def delayed_sqrt(number, milliseconds):\n",
    "    time.sleep(milliseconds / 1000)  \n",
    "    return math.sqrt(number)\n",
    "\n",
    "number = 25100\n",
    "milliseconds = 2123\n",
    "result = delayed_sqrt(number, milliseconds)\n",
    "print(f\"Square root of {number} after {milliseconds} milliseconds is {result}\")\n"
   ]
  },
  {
   "cell_type": "code",
   "execution_count": null,
   "id": "6f4f9bdf-49b5-4c53-829d-8adc9a32db50",
   "metadata": {},
   "outputs": [],
   "source": [
    "#5\n",
    "def all_true(t):\n",
    "    return all(t)\n",
    "\n",
    "t = (True, True, False)\n",
    "result = all_true(t)\n",
    "print(f\"Are all elements of the tuple true? {result}\")\n"
   ]
  }
 ],
 "metadata": {
  "kernelspec": {
   "display_name": "Python 3 (ipykernel)",
   "language": "python",
   "name": "python3"
  },
  "language_info": {
   "codemirror_mode": {
    "name": "ipython",
    "version": 3
   },
   "file_extension": ".py",
   "mimetype": "text/x-python",
   "name": "python",
   "nbconvert_exporter": "python",
   "pygments_lexer": "ipython3",
   "version": "3.12.4"
  }
 },
 "nbformat": 4,
 "nbformat_minor": 5
}
