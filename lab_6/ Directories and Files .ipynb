{
 "cells": [
  {
   "cell_type": "code",
   "execution_count": 6,
   "id": "0de84a16-9b7e-4a37-baf1-6c70f72f657e",
   "metadata": {},
   "outputs": [
    {
     "name": "stdout",
     "output_type": "stream",
     "text": [
      "The path does not exist: /path/to/your/directory\n"
     ]
    }
   ],
   "source": [
    "import os\n",
    "\n",
    "def list_contents(path):\n",
    "    if os.path.exists(path):\n",
    "        print(\"Directories:\")\n",
    "        for entry in os.listdir(path):\n",
    "            if os.path.isdir(os.path.join(path, entry)):\n",
    "                print(entry)\n",
    "\n",
    "        print(\"\\nFiles:\")\n",
    "        for entry in os.listdir(path):\n",
    "            if os.path.isfile(os.path.join(path, entry)):\n",
    "                print(entry)\n",
    "\n",
    "        print(\"\\nAll Contents:\")\n",
    "        for entry in os.listdir(path):\n",
    "            print(entry)\n",
    "    else:\n",
    "        print(f\"The path does not exist: {path}\")\n",
    "\n",
    "# Example usage: Replace with a valid directory path\n",
    "list_contents(\"/path/to/your/directory\")  # Update this with your actual path\n"
   ]
  },
  {
   "cell_type": "code",
   "execution_count": 8,
   "id": "b5935cc5-da4e-4f52-9dd3-13a30c43c54c",
   "metadata": {},
   "outputs": [
    {
     "name": "stdout",
     "output_type": "stream",
     "text": [
      "Path does not exist: your_directory_or_file_path\n"
     ]
    }
   ],
   "source": [
    "#2\n",
    "import os\n",
    "\n",
    "def check_access(path):\n",
    "    if os.path.exists(path):\n",
    "        print(f\"Path exists: {path}\")\n",
    "        print(f\"Readable: {os.access(path, os.R_OK)}\")\n",
    "        print(f\"Writable: {os.access(path, os.W_OK)}\")\n",
    "        print(f\"Executable: {os.access(path, os.X_OK)}\")\n",
    "    else:\n",
    "        print(f\"Path does not exist: {path}\")\n",
    "\n",
    "# Example usage:\n",
    "check_access(\"your_directory_or_file_path\")  # Replace with your path\n"
   ]
  },
  {
   "cell_type": "code",
   "execution_count": 10,
   "id": "80784404-2500-4677-a296-43dcae502906",
   "metadata": {},
   "outputs": [
    {
     "name": "stdout",
     "output_type": "stream",
     "text": [
      "Path does not exist: your_directory_or_file_path\n"
     ]
    }
   ],
   "source": [
    "#3\n",
    "import os\n",
    "\n",
    "def test_path(path):\n",
    "    if os.path.exists(path):\n",
    "        print(f\"Path exists: {path}\")\n",
    "        print(f\"File Name: {os.path.basename(path)}\")\n",
    "        print(f\"Directory: {os.path.dirname(path)}\")\n",
    "    else:\n",
    "        print(f\"Path does not exist: {path}\")\n",
    "\n",
    "# Example usage:\n",
    "test_path(\"your_directory_or_file_path\")  # Replace with your path\n"
   ]
  },
  {
   "cell_type": "code",
   "execution_count": null,
   "id": "d7124205-7cf0-4967-9244-e2b2853022d3",
   "metadata": {},
   "outputs": [],
   "source": [
    "#4\n",
    "def count_lines_in_file(file_path):\n",
    "    try:\n",
    "        with open(file_path, 'r') as file:\n",
    "            line_count = sum(1 for line in file)\n",
    "            print(f\"Number of lines in {file_path}: {line_count}\")\n",
    "    except FileNotFoundError:\n",
    "        print(f\"File not found: {file_path}\")\n",
    "\n",
    "# Example usage:\n",
    "count_lines_in_file(\"your_file.txt\")  # Replace with your file path\n"
   ]
  },
  {
   "cell_type": "code",
   "execution_count": 12,
   "id": "fa67805a-1a5d-4378-a099-25b148803a79",
   "metadata": {},
   "outputs": [
    {
     "name": "stdout",
     "output_type": "stream",
     "text": [
      "List written to output.txt\n"
     ]
    }
   ],
   "source": [
    "#5\n",
    "def write_list_to_file(file_path, data_list):\n",
    "    with open(file_path, 'w') as file:\n",
    "        for item in data_list:\n",
    "            file.write(f\"{item}\\n\")\n",
    "    print(f\"List written to {file_path}\")\n",
    "\n",
    "# Example usage:\n",
    "my_list = [\"Apple\", \"Banana\", \"Cherry\"]\n",
    "write_list_to_file(\"output.txt\", my_list)  # Replace with your desired output file path\n"
   ]
  },
  {
   "cell_type": "code",
   "execution_count": 14,
   "id": "3e6b6637-744f-42c0-aca8-a6fc0175f65c",
   "metadata": {},
   "outputs": [
    {
     "name": "stdout",
     "output_type": "stream",
     "text": [
      "26 text files generated.\n"
     ]
    }
   ],
   "source": [
    "#6\n",
    "import string\n",
    "\n",
    "def generate_text_files():\n",
    "    for letter in string.ascii_uppercase:\n",
    "        with open(f\"{letter}.txt\", 'w') as file:\n",
    "            file.write(f\"This is file {letter}.txt\")\n",
    "    print(\"26 text files generated.\")\n",
    "\n",
    "generate_text_files()\n"
   ]
  },
  {
   "cell_type": "code",
   "execution_count": 18,
   "id": "72cf1a34-bdb0-41eb-8def-0254d4c862eb",
   "metadata": {},
   "outputs": [
    {
     "name": "stdout",
     "output_type": "stream",
     "text": [
      "Source file not found: source.txt\n"
     ]
    }
   ],
   "source": [
    "#7\n",
    "import shutil\n",
    "\n",
    "def copy_file_contents(source_path, destination_path):\n",
    "    try:\n",
    "        shutil.copy(source_path, destination_path)\n",
    "        print(f\"Copied contents from {source_path} to {destination_path}.\")\n",
    "    except FileNotFoundError:\n",
    "        print(f\"Source file not found: {source_path}\")\n",
    "\n",
    "# Example usage:\n",
    "copy_file_contents(\"source.txt\", \"destination.txt\")  # Replace with your file paths\n"
   ]
  },
  {
   "cell_type": "code",
   "execution_count": 16,
   "id": "8b0ca78f-5374-4e4d-9e91-2f4b8b2151bf",
   "metadata": {},
   "outputs": [
    {
     "name": "stdout",
     "output_type": "stream",
     "text": [
      "File does not exist: file_to_delete.txt\n"
     ]
    }
   ],
   "source": [
    "#8\n",
    "import os\n",
    "\n",
    "def delete_file(file_path):\n",
    "    if os.path.exists(file_path):\n",
    "        if os.access(file_path, os.W_OK):\n",
    "            os.remove(file_path)\n",
    "            print(f\"File deleted: {file_path}\")\n",
    "        else:\n",
    "            print(f\"File is not writable: {file_path}\")\n",
    "    else:\n",
    "        print(f\"File does not exist: {file_path}\")\n",
    "\n",
    "# Example usage:\n",
    "delete_file(\"file_to_delete.txt\")  # Replace with your file path\n"
   ]
  },
  {
   "cell_type": "code",
   "execution_count": null,
   "id": "a90930b8-ddbe-426e-8519-3cff7185d5b8",
   "metadata": {},
   "outputs": [],
   "source": []
  }
 ],
 "metadata": {
  "kernelspec": {
   "display_name": "Python 3 (ipykernel)",
   "language": "python",
   "name": "python3"
  },
  "language_info": {
   "codemirror_mode": {
    "name": "ipython",
    "version": 3
   },
   "file_extension": ".py",
   "mimetype": "text/x-python",
   "name": "python",
   "nbconvert_exporter": "python",
   "pygments_lexer": "ipython3",
   "version": "3.12.4"
  }
 },
 "nbformat": 4,
 "nbformat_minor": 5
}
